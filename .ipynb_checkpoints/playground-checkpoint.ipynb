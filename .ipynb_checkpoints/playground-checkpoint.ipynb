{
 "cells": [
  {
   "cell_type": "code",
   "execution_count": 2,
   "id": "fc048879",
   "metadata": {},
   "outputs": [],
   "source": [
    "import sys\n",
    "import pandas as pd\n",
    "import numpy as np"
   ]
  },
  {
   "cell_type": "code",
   "execution_count": 3,
   "id": "7613397d",
   "metadata": {},
   "outputs": [
    {
     "data": {
      "text/html": [
       "<div>\n",
       "<style scoped>\n",
       "    .dataframe tbody tr th:only-of-type {\n",
       "        vertical-align: middle;\n",
       "    }\n",
       "\n",
       "    .dataframe tbody tr th {\n",
       "        vertical-align: top;\n",
       "    }\n",
       "\n",
       "    .dataframe thead th {\n",
       "        text-align: right;\n",
       "    }\n",
       "</style>\n",
       "<table border=\"1\" class=\"dataframe\">\n",
       "  <thead>\n",
       "    <tr style=\"text-align: right;\">\n",
       "      <th></th>\n",
       "      <th>0</th>\n",
       "      <th>1</th>\n",
       "    </tr>\n",
       "  </thead>\n",
       "  <tbody>\n",
       "    <tr>\n",
       "      <th>0</th>\n",
       "      <td>ESPN</td>\n",
       "      <td>afdcf2f6c39592fb9e387cea64fd3f12b26c1a8e993b93...</td>\n",
       "    </tr>\n",
       "    <tr>\n",
       "      <th>1</th>\n",
       "      <td>Deadline</td>\n",
       "      <td>7c15b03e7e61924c90edf327f30419ea9fa75d891484e9...</td>\n",
       "    </tr>\n",
       "    <tr>\n",
       "      <th>2</th>\n",
       "      <td>The Athletic</td>\n",
       "      <td>32e37a94b42dbfe84e599e93d4b9394a506a08cc2f083c...</td>\n",
       "    </tr>\n",
       "    <tr>\n",
       "      <th>3</th>\n",
       "      <td>The Independent</td>\n",
       "      <td>c6a4dd67c6339d583de0b62659ef38774c5d0027c497af...</td>\n",
       "    </tr>\n",
       "    <tr>\n",
       "      <th>4</th>\n",
       "      <td>Sydney Morning Herald</td>\n",
       "      <td>240012d458e538f9584531adf4b884a1c0068420919be9...</td>\n",
       "    </tr>\n",
       "  </tbody>\n",
       "</table>\n",
       "</div>"
      ],
      "text/plain": [
       "                       0                                                  1\n",
       "0                   ESPN  afdcf2f6c39592fb9e387cea64fd3f12b26c1a8e993b93...\n",
       "1               Deadline  7c15b03e7e61924c90edf327f30419ea9fa75d891484e9...\n",
       "2           The Athletic  32e37a94b42dbfe84e599e93d4b9394a506a08cc2f083c...\n",
       "3        The Independent  c6a4dd67c6339d583de0b62659ef38774c5d0027c497af...\n",
       "4  Sydney Morning Herald  240012d458e538f9584531adf4b884a1c0068420919be9..."
      ]
     },
     "execution_count": 3,
     "metadata": {},
     "output_type": "execute_result"
    }
   ],
   "source": [
    "feeds = pd.read_csv(\"feeds.csv\", header=None)\n",
    "feeds.head()"
   ]
  },
  {
   "cell_type": "code",
   "execution_count": 4,
   "id": "d53bbec4",
   "metadata": {},
   "outputs": [],
   "source": [
    "feeds_ids = list(feeds.iloc[:,1].to_numpy())\n",
    "feeds_titles = list(feeds.iloc[:,0].to_numpy())"
   ]
  },
  {
   "cell_type": "code",
   "execution_count": 6,
   "id": "2b4433c6",
   "metadata": {},
   "outputs": [],
   "source": [
    "for i, id in enumerate(feeds_ids):\n",
    "    df = pd.read_csv(\"feed_buckets/11a8461482623e3a23448095d1a41313223e8f3580a7758efa698b34c03ef4dc.csv\", header=None)\n",
    "    rows = df.shape[0]\n",
    "    df = df.drop_duplicates()\n",
    "    rows2 = df.shape[0]\n",
    "    if rows != rows2:\n",
    "        print(\"Duplicates detected in {}:{}\".format(fee))"
   ]
  },
  {
   "cell_type": "code",
   "execution_count": 18,
   "id": "9d7a26bc",
   "metadata": {},
   "outputs": [],
   "source": [
    "df2 = df.drop_duplicates()"
   ]
  },
  {
   "cell_type": "code",
   "execution_count": 19,
   "id": "515437dc",
   "metadata": {},
   "outputs": [
    {
     "data": {
      "text/plain": [
       "(26, 8)"
      ]
     },
     "execution_count": 19,
     "metadata": {},
     "output_type": "execute_result"
    }
   ],
   "source": [
    "df2.shape"
   ]
  },
  {
   "cell_type": "code",
   "execution_count": 20,
   "id": "e2139617",
   "metadata": {},
   "outputs": [
    {
     "data": {
      "text/plain": [
       "Status Coup                                                                     2\n",
       "Are We Ready for the Next Trump-Led Coup?                                       2\n",
       "Should Andrew Cuomo Go To Jail for “Forcible Touching”?                         2\n",
       "Do We Need Faith as the World Feels Like It’s Ending?                           2\n",
       "Rain Falls on California, but Water Is Still Scarce                             2\n",
       "Blame Manchin and Sinema for the Delay on the Infrastructure Vote               2\n",
       "It’s Time to End Murder by Spreadsheet                                          2\n",
       "“If Black Women Were Free”: An Oral History of the Combahee River Collective    2\n",
       "The Supreme Court Wants to Make It Even Harder to Sue Abusive Cops              2\n",
       "Every House Member Who Aided the January 6 Rioters Must Be Expelled             2\n",
       "Stop Trying to Find Magic Words to Convince Climate Opponents                   2\n",
       "The Window to Act Is Closing Fast                                               2\n",
       "A Livable Future Is Possible: An Interview With Noam Chomsky                    2\n",
       "The Use and Disadvantage of Doctrine in the Classroom                           2\n",
       "To Build Back Better, Progressives Need to Fight Back Harder                    1\n",
       "Day of the Dead                                                                 1\n",
       "The GOP’s Grievance Industrial Complex Invades the Classroom                    1\n",
       "Congress Has Oil Executives Cornered. But Will They Lie Under Oath?             1\n",
       "Voter Suppression Isn’t Just a Problem Down South                               1\n",
       "The History of the United States as the History of Capitalism                   1\n",
       "Cover the COP26 Climate Summit Like Our Lives Depend on It                      1\n",
       "How Thousands of Black Farmers Were Forced Off Their Land                       1\n",
       "Who Goes Fascist? A Political Psychologist Explains.                            1\n",
       "This Is the Decade to Reduce Emissions                                          1\n",
       "When Critical Race Theory Met the CFPB… at a Toyota Dealer                      1\n",
       "Halloween Costumes                                                              1\n",
       "Name: 0, dtype: int64"
      ]
     },
     "execution_count": 20,
     "metadata": {},
     "output_type": "execute_result"
    }
   ],
   "source": [
    "df.iloc[:,0].value_counts()"
   ]
  },
  {
   "cell_type": "code",
   "execution_count": 7,
   "id": "c4da9d1b",
   "metadata": {},
   "outputs": [],
   "source": [
    "from numpy import genfromtxt\n",
    "sim_matrix = genfromtxt('sim_matrix.csv', delimiter=',')\n",
    "feeds_titles = feeds.iloc[:,0].to_numpy()"
   ]
  },
  {
   "cell_type": "code",
   "execution_count": 86,
   "id": "f464349f",
   "metadata": {},
   "outputs": [],
   "source": [
    "feed = 'Goal.com'\n",
    "index = np.where(feeds_titles == feed)[0].squeeze()"
   ]
  },
  {
   "cell_type": "code",
   "execution_count": 87,
   "id": "a34e9557",
   "metadata": {},
   "outputs": [],
   "source": [
    "sources_rank = []\n",
    "for i in range(sim_matrix.shape[0]):\n",
    "    if i == index:\n",
    "        continue\n",
    "    sources_rank.append((feeds_titles[i], sim_matrix[index, i]))\n",
    "    \n",
    "sources_rank.sort(key=lambda x: -x[1])"
   ]
  },
  {
   "cell_type": "code",
   "execution_count": 88,
   "id": "0e93cbae",
   "metadata": {},
   "outputs": [
    {
     "data": {
      "text/plain": [
       "[('ESPN - Football', 0.8751232995675281),\n",
       " ('SkySports', 0.8661342397286604),\n",
       " ('The Athletic', 0.776526069285197),\n",
       " ('ESPN', 0.7690546226010979),\n",
       " ('Bleacher Report', 0.7374570325174942)]"
      ]
     },
     "execution_count": 88,
     "metadata": {},
     "output_type": "execute_result"
    }
   ],
   "source": [
    "sources_rank[:5]"
   ]
  },
  {
   "cell_type": "code",
   "execution_count": 89,
   "id": "babd889b",
   "metadata": {},
   "outputs": [
    {
     "data": {
      "text/html": [
       "<div>\n",
       "<style scoped>\n",
       "    .dataframe tbody tr th:only-of-type {\n",
       "        vertical-align: middle;\n",
       "    }\n",
       "\n",
       "    .dataframe tbody tr th {\n",
       "        vertical-align: top;\n",
       "    }\n",
       "\n",
       "    .dataframe thead th {\n",
       "        text-align: right;\n",
       "    }\n",
       "</style>\n",
       "<table border=\"1\" class=\"dataframe\">\n",
       "  <thead>\n",
       "    <tr style=\"text-align: right;\">\n",
       "      <th></th>\n",
       "      <th>0</th>\n",
       "      <th>1</th>\n",
       "    </tr>\n",
       "  </thead>\n",
       "  <tbody>\n",
       "    <tr>\n",
       "      <th>0</th>\n",
       "      <td>ESPN</td>\n",
       "      <td>afdcf2f6c39592fb9e387cea64fd3f12b26c1a8e993b93...</td>\n",
       "    </tr>\n",
       "    <tr>\n",
       "      <th>1</th>\n",
       "      <td>Deadline</td>\n",
       "      <td>7c15b03e7e61924c90edf327f30419ea9fa75d891484e9...</td>\n",
       "    </tr>\n",
       "    <tr>\n",
       "      <th>2</th>\n",
       "      <td>The Athletic</td>\n",
       "      <td>32e37a94b42dbfe84e599e93d4b9394a506a08cc2f083c...</td>\n",
       "    </tr>\n",
       "    <tr>\n",
       "      <th>3</th>\n",
       "      <td>The Independent</td>\n",
       "      <td>c6a4dd67c6339d583de0b62659ef38774c5d0027c497af...</td>\n",
       "    </tr>\n",
       "    <tr>\n",
       "      <th>4</th>\n",
       "      <td>Sydney Morning Herald</td>\n",
       "      <td>240012d458e538f9584531adf4b884a1c0068420919be9...</td>\n",
       "    </tr>\n",
       "  </tbody>\n",
       "</table>\n",
       "</div>"
      ],
      "text/plain": [
       "                       0                                                  1\n",
       "0                   ESPN  afdcf2f6c39592fb9e387cea64fd3f12b26c1a8e993b93...\n",
       "1               Deadline  7c15b03e7e61924c90edf327f30419ea9fa75d891484e9...\n",
       "2           The Athletic  32e37a94b42dbfe84e599e93d4b9394a506a08cc2f083c...\n",
       "3        The Independent  c6a4dd67c6339d583de0b62659ef38774c5d0027c497af...\n",
       "4  Sydney Morning Herald  240012d458e538f9584531adf4b884a1c0068420919be9..."
      ]
     },
     "execution_count": 89,
     "metadata": {},
     "output_type": "execute_result"
    }
   ],
   "source": [
    "feeds = pd.read_csv(\"feeds.csv\", header=None)\n",
    "feeds.head()"
   ]
  },
  {
   "cell_type": "code",
   "execution_count": 132,
   "id": "a7d71bd9",
   "metadata": {},
   "outputs": [],
   "source": [
    "feed_dict = []\n",
    "\n",
    "for i, row in feeds.iterrows():\n",
    "    feed_dict.append({\n",
    "        'name':row[0],\n",
    "        'id': row[1]\n",
    "    })\n",
    "    \n",
    "import json\n",
    "\n",
    "dic = {'data':feed_dict}"
   ]
  },
  {
   "cell_type": "code",
   "execution_count": 133,
   "id": "49a96b3f",
   "metadata": {},
   "outputs": [],
   "source": [
    "with open('sources.json', 'w', encoding='utf-8') as f:\n",
    "    json.dump(dic, f, ensure_ascii=True, indent=4)"
   ]
  },
  {
   "cell_type": "code",
   "execution_count": 134,
   "id": "a14691c1",
   "metadata": {},
   "outputs": [],
   "source": [
    "from numpy import genfromtxt\n",
    "sim_matrix = genfromtxt('sim_matrix.csv', delimiter=',')\n",
    "feeds_titles = feeds.iloc[:,0].to_numpy()"
   ]
  },
  {
   "cell_type": "code",
   "execution_count": null,
   "id": "eca86b09",
   "metadata": {},
   "outputs": [],
   "source": [
    "top10_dict = {} "
   ]
  },
  {
   "cell_type": "code",
   "execution_count": null,
   "id": "7a3f404b",
   "metadata": {},
   "outputs": [],
   "source": [
    "for index, feed in enumerate(feeds_titles):\n",
    "    sources_rank = []\n",
    "    for i in range(sim_matrix.shape[0]):\n",
    "        if i == index:\n",
    "            continue\n",
    "        sources_rank.append((feeds_titles[i], sim_matrix[index, i]))\n",
    "\n",
    "    sources_rank.sort(key=lambda x: -x[1])"
   ]
  }
 ],
 "metadata": {
  "kernelspec": {
   "display_name": "Python 3",
   "language": "python",
   "name": "python3"
  },
  "language_info": {
   "codemirror_mode": {
    "name": "ipython",
    "version": 3
   },
   "file_extension": ".py",
   "mimetype": "text/x-python",
   "name": "python",
   "nbconvert_exporter": "python",
   "pygments_lexer": "ipython3",
   "version": "3.9.1"
  }
 },
 "nbformat": 4,
 "nbformat_minor": 5
}
